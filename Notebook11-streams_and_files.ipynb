{
  "cells": [
    {
      "cell_type": "markdown",
      "metadata": {
        "id": "L13XPVzJwW4m"
      },
      "source": [
        "<a target=\"_blank\" href=\"https://colab.research.google.com/github/WSU-CS1410-AA/cs1410-notebooks/blob/main/Notebook11-streams_and_files.ipynb\">\n",
        "  <img src=\"https://colab.research.google.com/assets/colab-badge.svg\" alt=\"Open In Colab\"/>\n",
        "</a>"
      ]
    },
    {
      "cell_type": "markdown",
      "metadata": {
        "id": "KI9_ZPs3wW4s"
      },
      "source": [
        "# Streams and Files\n",
        "\n",
        "A stream is a flow of data into or out of a program. It is a metaphor to help visualize data produced by and/or consumed by a program. When data flows into a program we call that an input stream and when data flows out of a program we call it an output stream.\n",
        "\n",
        "Streams are ubiquitous in C++. And we have been using them since the very beginning. This is because `cout` is an output stream and `cin` is an input stream.\n",
        "\n",
        "In addition to the standard output stream `cout`, C++ has a standard error stream named `cerr`, which is used to report errors. Compare the following two output messages: one using `cout` and the other using `cerr`."
      ]
    },
    {
      "cell_type": "code",
      "execution_count": 1,
      "metadata": {
        "id": "Lm7XGJfnwW4s",
        "outputId": "8747874f-538d-49d7-c666-698de304e1ed",
        "colab": {
          "base_uri": "https://localhost:8080/"
        }
      },
      "outputs": [
        {
          "output_type": "stream",
          "name": "stdout",
          "text": [
            "Writing ex01.cpp\n"
          ]
        }
      ],
      "source": [
        "%%writefile ex01.cpp\n",
        "\n",
        "#include <iostream>\n",
        "\n",
        "using namespace std;\n",
        "\n",
        "int main(){\n",
        "  cout << \"Welcome to C++\" << endl;\n",
        "  cerr << \"An error has happened\";\n",
        "\n",
        "  return 0;\n",
        "}"
      ]
    },
    {
      "cell_type": "code",
      "execution_count": 2,
      "metadata": {
        "id": "bLNZgNcmwW4t",
        "outputId": "a5742751-2eda-4dea-df5c-1b593ebbd39a",
        "colab": {
          "base_uri": "https://localhost:8080/"
        }
      },
      "outputs": [
        {
          "output_type": "stream",
          "name": "stdout",
          "text": [
            "Welcome to C++\n",
            "An error has happened"
          ]
        }
      ],
      "source": [
        "!g++ -std=c++17 ex01.cpp -o ex01\n",
        "!./ex01"
      ]
    },
    {
      "cell_type": "markdown",
      "metadata": {
        "id": "kxvfyVcfwW4v"
      },
      "source": [
        "Here is the hierarchy of the most popular streams in C++. This hierarchy of classes is an example of what a good object-oriented programming design involving multiple inheritance looks like.\n",
        "\n",
        "```text\n",
        "                   ios_base\n",
        "                      △\n",
        "                      |\n",
        "                      |\n",
        "        +----------▷ ios ◁-------------+    \n",
        "        |                              |\n",
        "        |                              |\n",
        "     istream ◁------+    +------▷ ostream\n",
        "        △           \\    /             △\n",
        "        |            \\  /              |\n",
        "        |             \\/               |\n",
        "     ifstream      iostream        ofstream\n",
        "                    △    △\n",
        "                    |    |\n",
        "           +--------+    +--------+\n",
        "           |                      |\n",
        "           |                      |\n",
        "        fstream             stringstream\n",
        "```\n",
        "\n",
        "As you can see, the `ios_base` class is the grandparent of all stream classes. It is subclassed by the `ios` class, which stands for input-output-stream and has nothing to do with the iOS operating system from Apple. The `ios` class is the parent of both the `istream` class, which is the input stream class of `cin`, and the `ostream` class, which is the output stream class of `cout` and `cerr`. The `iostream` class is an example of multiple inheritances with its two parents: `istream` and `ostream`. All of these classes are for the standard input and output (keyboard and console screen).\n",
        "\n",
        "For working with files, we have three stream classes: the input file stream `ifstream` class for reading data from a file, the output file stream `ofstream` class for writing data to a file, and the input and output file stream `fstream` class for reading data from and writing data to the same file.\n",
        "\n",
        "Going down the hierarchy, we can also see that the `stringstream` class is both an input and an output stream.\n",
        "\n",
        "Having a hierarchy like this showcases the importance of object-oriented programming. It brings simplicity and consistency to how we handle input and output and makes working with file and string streams identical to using `cout` and `cin`.\n",
        "\n",
        "To get started working with files, we must first include the `<fstream>` header file.\n",
        "\n",
        "```cpp\n",
        "#include <fstream>\n",
        "```"
      ]
    },
    {
      "cell_type": "markdown",
      "metadata": {
        "id": "DAvG4DuwwW41"
      },
      "source": [
        "## Writing to a file\n",
        "\n",
        "To write to a file we use the `ofstream` class. Here is a simple example of writing the string `\"Hello, World!\"` to a text file named `hello.txt`."
      ]
    },
    {
      "cell_type": "code",
      "execution_count": 4,
      "metadata": {
        "id": "kJddnJG1wW41",
        "outputId": "16547577-9e4f-4c59-ac89-9d281c47ac74",
        "colab": {
          "base_uri": "https://localhost:8080/"
        }
      },
      "outputs": [
        {
          "output_type": "stream",
          "name": "stdout",
          "text": [
            "Overwriting ex02.cpp\n"
          ]
        }
      ],
      "source": [
        "%%writefile ex02.cpp\n",
        "\n",
        "#include <fstream>\n",
        "\n",
        "using namespace std;\n",
        "\n",
        "int main(){\n",
        "  ofstream out(\"hello.txt\");\n",
        "\n",
        "  out << \"Hello World!\" << endl;\n",
        "\n",
        "  out.close();\n",
        "\n",
        "  return 0;\n",
        "}"
      ]
    },
    {
      "cell_type": "code",
      "source": [
        "!g++ -std=c++17 ex02.cpp -o ex02\n",
        "!./ex02"
      ],
      "metadata": {
        "id": "KsqGdtCHxwEK"
      },
      "execution_count": 5,
      "outputs": []
    },
    {
      "cell_type": "markdown",
      "source": [
        "Let's also print the contents of the file we just created:"
      ],
      "metadata": {
        "id": "KLRioBqXyVp7"
      }
    },
    {
      "cell_type": "code",
      "source": [
        "!cat hello.txt"
      ],
      "metadata": {
        "id": "gcMjx2SfyeJa",
        "outputId": "53e859c6-2ebb-4ff3-c241-abc635486c1d",
        "colab": {
          "base_uri": "https://localhost:8080/"
        }
      },
      "execution_count": 6,
      "outputs": [
        {
          "output_type": "stream",
          "name": "stdout",
          "text": [
            "Hello World!\n"
          ]
        }
      ]
    },
    {
      "cell_type": "markdown",
      "metadata": {
        "id": "EP31EUL6wW41"
      },
      "source": [
        "As you can see, creating a file involves nothing more than creating an object of the `ofstream` and passing the name of the file as an argument to its constructor. We called this object `out` but it could be any valid C++ identifier. Having done that, the variable `out` is now an output stream just like `cout` is, and we can use it exactly the same way.\n",
        "\n",
        "And when we are done writing to the file, it is important to close the file by calling `out.close()`.\n",
        "\n",
        "After running the code above, go to the folder where this notebook is saved, you will find a file named `hello.txt`. This file did not exist before and was created by running the above cell code. Open it to see its contents.\n",
        "\n",
        "## Appending text to an existing file\n",
        "\n",
        "If you have an existing file that you want to add contents to, you can open it in the same way as before except for adding the extra constructor argument (`ios::app`) to tell C++ to append to the file if it exists instead of writing over it. Since we already have the `hello.txt` file from the example above, let us open this file and append some new text to it. Here we'll prompt the user for a name, read that name from the standard input, and then append the line `\"Welcome <name> to C++ programming!\"` to the end of the file. Run the following code cell and then open the `hello.txt` file again to make sure that it now has the appended new text line at the end."
      ]
    },
    {
      "cell_type": "code",
      "execution_count": 7,
      "metadata": {
        "id": "CAW24tyEwW42",
        "outputId": "a9e0fec5-1121-45b8-bea6-8640a15256de",
        "colab": {
          "base_uri": "https://localhost:8080/"
        }
      },
      "outputs": [
        {
          "output_type": "stream",
          "name": "stdout",
          "text": [
            "Writing ex03.cpp\n"
          ]
        }
      ],
      "source": [
        "%%writefile ex03.cpp\n",
        "\n",
        "#include <fstream>\n",
        "#include <iostream>\n",
        "\n",
        "using namespace std;\n",
        "\n",
        "int main(){\n",
        "  cout << \"Enter your first name: \";\n",
        "  string name;\n",
        "  cin >> name;\n",
        "\n",
        "  ofstream out2(\"hello.txt\", ios::app);\n",
        "  out2 << \"Welcome \" << name << \" to C++ programming!\" << endl;\n",
        "  out2.close();\n",
        "\n",
        "  return 0;\n",
        "}"
      ]
    },
    {
      "cell_type": "code",
      "source": [
        "!g++ -std=c++17 ex03.cpp -o ex03\n",
        "!./ex03"
      ],
      "metadata": {
        "id": "nHpn3ug7zCEQ",
        "outputId": "d4311116-8466-453e-c80b-cbec6bb23a73",
        "colab": {
          "base_uri": "https://localhost:8080/"
        }
      },
      "execution_count": 8,
      "outputs": [
        {
          "output_type": "stream",
          "name": "stdout",
          "text": [
            "Enter your first name: pravesh\n"
          ]
        }
      ]
    },
    {
      "cell_type": "markdown",
      "source": [
        "Here is the file `hello.txt`:"
      ],
      "metadata": {
        "id": "xEYPN-01zMWN"
      }
    },
    {
      "cell_type": "code",
      "source": [
        "!cat hello.txt"
      ],
      "metadata": {
        "id": "QrnWmT_NzM_3",
        "outputId": "dbe6ea44-0768-42e8-c30f-0b842ba83c15",
        "colab": {
          "base_uri": "https://localhost:8080/"
        }
      },
      "execution_count": 9,
      "outputs": [
        {
          "output_type": "stream",
          "name": "stdout",
          "text": [
            "Hello World!\n",
            "Welcome pravesh to C++ programming!\n"
          ]
        }
      ]
    },
    {
      "cell_type": "markdown",
      "metadata": {
        "id": "48pJlGhIwW42"
      },
      "source": [
        "## CODING CHALLENGE 1\n",
        "\n",
        "In the code cell below, write a program that prompts the user for words (until they type STOP), reads these words from the keyboard, and saves them one word per line to a file named `words.txt`."
      ]
    },
    {
      "cell_type": "code",
      "execution_count": 10,
      "metadata": {
        "id": "3LP-sARzwW42",
        "outputId": "0b5eee31-be22-486a-ad24-dfa58e731429",
        "colab": {
          "base_uri": "https://localhost:8080/"
        }
      },
      "outputs": [
        {
          "output_type": "stream",
          "name": "stdout",
          "text": [
            "Writing ch01.cpp\n"
          ]
        }
      ],
      "source": [
        "%%writefile ch01.cpp\n",
        "\n",
        "#include <iostream>\n",
        "#include <fstream>\n",
        "#include <string>\n",
        "\n",
        "int main() {\n",
        "    std::ofstream outFile(\"words.txt\");\n",
        "    std::string word;\n",
        "\n",
        "    if (!outFile) {\n",
        "        std::cerr << \"Error opening file.\" << std::endl;\n",
        "        return 1;\n",
        "    }\n",
        "\n",
        "    std::cout << \"Enter words (type STOP to end):\" << std::endl;\n",
        "\n",
        "    while (true) {\n",
        "        std::cin >> word;\n",
        "        if (word == \"STOP\") {\n",
        "            break;\n",
        "        }\n",
        "        outFile << word << std::endl;\n",
        "    }\n",
        "\n",
        "    outFile.close();\n",
        "    std::cout << \"Words saved to words.txt\" << std::endl;\n",
        "\n",
        "    return 0;\n",
        "}"
      ]
    },
    {
      "cell_type": "code",
      "source": [
        "!g++ -std=c++17 ch01.cpp -o ch01\n",
        "!./ch01"
      ],
      "metadata": {
        "id": "t0kuki0AztDc",
        "outputId": "e7a0d5bb-2fa1-4845-b761-febb926fc2f4",
        "colab": {
          "base_uri": "https://localhost:8080/"
        }
      },
      "execution_count": 11,
      "outputs": [
        {
          "output_type": "stream",
          "name": "stdout",
          "text": [
            "Enter words (type STOP to end):\n",
            "STOP\n",
            "Words saved to words.txt\n"
          ]
        }
      ]
    },
    {
      "cell_type": "code",
      "source": [
        "!cat words.txt"
      ],
      "metadata": {
        "id": "OeXMmZJTzwDC"
      },
      "execution_count": 13,
      "outputs": []
    },
    {
      "cell_type": "markdown",
      "metadata": {
        "id": "oNheul7_wW43"
      },
      "source": [
        "## Using `setw` to organize file output into tables\n",
        "\n",
        "Because  `ofstream` is an output stream, we can use `setw` with it just like we did with `cout`. The code cell below uses `setw` to generate a data table like this and save it into a file named `multable.txt`:\n",
        "\n",
        "| x | 2 * x | 3 * x | 4 * x | 5 * x |\n",
        "| - | ----- | ----- | ----- | ----- |\n",
        "| 1 | 2     | 3     | 4     | 5     |\n",
        "| 2 | 4     | 6     | 8     | 10    |\n",
        "| 3 | 6     | 9     | 12    | 15    |\n",
        "| 4 | 8     | 12    | 16    | 20    |\n",
        "| 5 | 10    | 15    | 20    | 25    |"
      ]
    },
    {
      "cell_type": "code",
      "execution_count": 14,
      "metadata": {
        "id": "bi95aLIMwW43",
        "outputId": "bc4429c4-df07-498e-eb29-e19312e88122",
        "colab": {
          "base_uri": "https://localhost:8080/"
        }
      },
      "outputs": [
        {
          "output_type": "stream",
          "name": "stdout",
          "text": [
            "Writing ex04.cpp\n"
          ]
        }
      ],
      "source": [
        "%%writefile ex04.cpp\n",
        "\n",
        "#include <fstream>\n",
        "#include <iostream>\n",
        "#include <iomanip>\n",
        "\n",
        "using namespace std;\n",
        "\n",
        "int main(){\n",
        "  ofstream mt_out(\"multable.txt\");\n",
        "\n",
        "  mt_out << setw(4) << \"x\" << setw(6) << \"2*x\" << setw(6) <<\"3*x\" << setw(6) <<\"4*x\" << setw(6) << \"5*x\" << endl;\n",
        "  for(int x = 1; x <= 5; x++){\n",
        "    mt_out << setw(4) << x;\n",
        "    for(int y = 2; y <= 5; y++){\n",
        "        mt_out << setw(6) << x * y;\n",
        "    }\n",
        "\n",
        "    mt_out << endl;\n",
        "  }\n",
        "  mt_out.close();\n",
        "\n",
        "  return 0;\n",
        "}"
      ]
    },
    {
      "cell_type": "code",
      "source": [
        "!g++ -std=c++17 ex04.cpp -o ex04\n",
        "!./ex04"
      ],
      "metadata": {
        "id": "0sm1oeGC0cCT"
      },
      "execution_count": 15,
      "outputs": []
    },
    {
      "cell_type": "markdown",
      "metadata": {
        "id": "Ki1mlyu6wW43"
      },
      "source": [
        "Under the folder where this notebook is saved, there should be a file named `multable.txt`. Here is what the output file looks like:"
      ]
    },
    {
      "cell_type": "code",
      "source": [
        "!cat multable.txt"
      ],
      "metadata": {
        "id": "YnpVXJfL0iWn",
        "outputId": "b3b28264-0814-4c4a-edf5-b5e4407474bb",
        "colab": {
          "base_uri": "https://localhost:8080/"
        }
      },
      "execution_count": 16,
      "outputs": [
        {
          "output_type": "stream",
          "name": "stdout",
          "text": [
            "   x   2*x   3*x   4*x   5*x\n",
            "   1     2     3     4     5\n",
            "   2     4     6     8    10\n",
            "   3     6     9    12    15\n",
            "   4     8    12    16    20\n",
            "   5    10    15    20    25\n"
          ]
        }
      ]
    },
    {
      "cell_type": "markdown",
      "metadata": {
        "id": "4l-lxxmMwW44"
      },
      "source": [
        "## CODING CHALLENGE 2\n",
        "\n",
        "In the code cell below, write a program that prompts the user for a year (say 2019, for instance) and output a file named `days_and_months.txt` containing a table of how many days in each month for that given year in a format like this:\n",
        "\n",
        "| YEAR | MONTH     | DAYS |\n",
        "| ---- | --------- | ---- |\n",
        "| 2019 | January   | 31   |\n",
        "| 2019 | February  | 28   |\n",
        "| 2019 | March     | 31   |\n",
        "| 2019 | April     | 30   |\n",
        "| 2019 | May       | 31   |\n",
        "| 2019 | June      | 30   |\n",
        "| 2019 | July      | 31   |\n",
        "| 2019 | August    | 31   |\n",
        "| 2019 | September | 30   |\n",
        "| 2019 | October   | 31   |\n",
        "| 2019 | November  | 30   |\n",
        "| 2019 | December  | 31   |\n",
        "\n",
        "Remember that February has 29 on leap years and 28 days on other years. A leap year is a year that is divisible by 4 and is not divisible by 100. That is:"
      ]
    },
    {
      "cell_type": "code",
      "execution_count": 17,
      "metadata": {
        "id": "6wDNajVHwW44",
        "outputId": "e517b536-9029-48e4-fcf5-b5ed5df2117e",
        "colab": {
          "base_uri": "https://localhost:8080/"
        }
      },
      "outputs": [
        {
          "output_type": "stream",
          "name": "stdout",
          "text": [
            "Writing ch02.cpp\n"
          ]
        }
      ],
      "source": [
        "%%writefile ch02.cpp\n",
        "\n",
        "#include <iostream>\n",
        "#include <fstream>\n",
        "#include <string>\n",
        "\n",
        "bool isLeapYear(int year) {\n",
        "    return (year % 4 == 0 && year % 100 != 0) || (year % 400 == 0);\n",
        "}\n",
        "\n",
        "int main() {\n",
        "    int year;\n",
        "    std::cout << \"Enter a year: \";\n",
        "    std::cin >> year;\n",
        "\n",
        "    std::ofstream outFile(\"days_and_months.txt\");\n",
        "    if (!outFile) {\n",
        "        std::cerr << \"Error opening file.\" << std::endl;\n",
        "        return 1;\n",
        "    }\n",
        "\n",
        "    std::string months[] = {\n",
        "        \"January\", \"February\", \"March\", \"April\", \"May\", \"June\",\n",
        "        \"July\", \"August\", \"September\", \"October\", \"November\", \"December\"\n",
        "    };\n",
        "\n",
        "    int daysInMonth[] = {\n",
        "        31, 28, 31, 30, 31, 30,\n",
        "        31, 31, 30, 31, 30, 31\n",
        "    };\n",
        "\n",
        "    if (isLeapYear(year)) {\n",
        "        daysInMonth[1] = 29; // February has 29 days in leap years\n",
        "    }\n",
        "\n",
        "    outFile << \"YEAR\\tMONTH\\t\\tDAYS\" << std::endl;\n",
        "\n",
        "    for (int i = 0; i < 12; ++i) {\n",
        "        outFile << year << \"\\t\" << months[i];\n",
        "        if (months[i].length() < 8) outFile << \"\\t\";  // Adjust tab for alignment\n",
        "        outFile << \"\\t\" << daysInMonth[i] << std::endl;\n",
        "    }\n",
        "\n",
        "    outFile.close();\n",
        "    std::cout << \"File 'days_and_months.txt' has been created.\" << std::endl;\n",
        "\n",
        "    return 0;\n",
        "}"
      ]
    },
    {
      "cell_type": "code",
      "source": [
        "!g++ -std=c++17 ch02.cpp -o ch02\n",
        "!./ch02"
      ],
      "metadata": {
        "id": "m4zxeKla0xfE",
        "outputId": "43b34667-b24a-4e50-d96b-6fc199ad94e6",
        "colab": {
          "base_uri": "https://localhost:8080/"
        }
      },
      "execution_count": 18,
      "outputs": [
        {
          "output_type": "stream",
          "name": "stdout",
          "text": [
            "Enter a year: 2005\n",
            "File 'days_and_months.txt' has been created.\n"
          ]
        }
      ]
    },
    {
      "cell_type": "code",
      "source": [
        "!cat days_and_months.txt"
      ],
      "metadata": {
        "id": "q5DPdMV80w6m",
        "outputId": "3327cd45-10db-404b-c1c9-b30a83bd3541",
        "colab": {
          "base_uri": "https://localhost:8080/"
        }
      },
      "execution_count": 19,
      "outputs": [
        {
          "output_type": "stream",
          "name": "stdout",
          "text": [
            "YEAR\tMONTH\t\tDAYS\n",
            "2005\tJanuary\t\t31\n",
            "2005\tFebruary\t28\n",
            "2005\tMarch\t\t31\n",
            "2005\tApril\t\t30\n",
            "2005\tMay\t\t31\n",
            "2005\tJune\t\t30\n",
            "2005\tJuly\t\t31\n",
            "2005\tAugust\t\t31\n",
            "2005\tSeptember\t30\n",
            "2005\tOctober\t\t31\n",
            "2005\tNovember\t30\n",
            "2005\tDecember\t31\n"
          ]
        }
      ]
    },
    {
      "cell_type": "markdown",
      "metadata": {
        "id": "W40GwpZTwW44"
      },
      "source": [
        "## Reading from a file\n",
        "\n",
        "Reading from a text file is simple too. It starts with creating an `ifstream` object and passing the name of the file we want to read from as argument to its constructor. The file we are trying to read must exist already. This new input file stream object can then used in the same way we use `cin`, because both of them are input streams.\n",
        "\n",
        "Here is an example program reading the contents of the previously created `multable.txt` file line by line and displaying them to the screen."
      ]
    },
    {
      "cell_type": "code",
      "execution_count": 20,
      "metadata": {
        "id": "gAyj3w7LwW44",
        "outputId": "a5a9f20d-f4b0-456e-b072-e4601e7dace4",
        "colab": {
          "base_uri": "https://localhost:8080/"
        }
      },
      "outputs": [
        {
          "output_type": "stream",
          "name": "stdout",
          "text": [
            "Writing ex05.cpp\n"
          ]
        }
      ],
      "source": [
        "%%writefile ex05.cpp\n",
        "\n",
        "#include <fstream>\n",
        "#include <iostream>\n",
        "#include <iomanip>\n",
        "\n",
        "using namespace std;\n",
        "\n",
        "int main(){\n",
        "  ifstream in(\"multable.txt\");\n",
        "  string line;\n",
        "\n",
        "  while(getline(in, line)){\n",
        "      cout << line << endl;\n",
        "  }\n",
        "\n",
        "  in.close();\n",
        "\n",
        "  return 0;\n",
        "}"
      ]
    },
    {
      "cell_type": "code",
      "source": [
        "!g++ -std=c++17 ex05.cpp -o ex05\n",
        "!./ex05"
      ],
      "metadata": {
        "id": "JewF6nV_1kOf",
        "outputId": "13ea3c3f-c98c-4563-fc33-9e55681d851b",
        "colab": {
          "base_uri": "https://localhost:8080/"
        }
      },
      "execution_count": 21,
      "outputs": [
        {
          "output_type": "stream",
          "name": "stdout",
          "text": [
            "   x   2*x   3*x   4*x   5*x\n",
            "   1     2     3     4     5\n",
            "   2     4     6     8    10\n",
            "   3     6     9    12    15\n",
            "   4     8    12    16    20\n",
            "   5    10    15    20    25\n"
          ]
        }
      ]
    },
    {
      "cell_type": "markdown",
      "metadata": {
        "id": "avHfuRAxwW45"
      },
      "source": [
        "Here, we use the `while` loop to make sure we read everything in the file, and we use the `getline()` function to read it line by line. Notice how we use the `getline(in, line)` as a condition for this loop. This `getline()` function will keep returning `true` until end of file is encountered.\n",
        "\n",
        "But what if, instead of reading this file line by line, we want to read it a value by value. To do this, we need to pay attention to the following:\n",
        "* the data type of each value. The header row is all strings while the subsequent rows are all integers.\n",
        "* how many values per row (5 in this example)\n",
        "\n",
        "Here is a simple program for doing that."
      ]
    },
    {
      "cell_type": "code",
      "execution_count": 22,
      "metadata": {
        "id": "rDvhULi8wW45",
        "outputId": "0cb5acd5-daac-48f9-e1d2-ce38aff4cd38",
        "colab": {
          "base_uri": "https://localhost:8080/"
        }
      },
      "outputs": [
        {
          "output_type": "stream",
          "name": "stdout",
          "text": [
            "Writing ex06.cpp\n"
          ]
        }
      ],
      "source": [
        "%%writefile ex06.cpp\n",
        "\n",
        "#include <fstream>\n",
        "#include <iostream>\n",
        "#include <iomanip>\n",
        "\n",
        "using namespace std;\n",
        "\n",
        "int main(){\n",
        "  ifstream mt_in(\"multable.txt\");\n",
        "\n",
        "  string hx, h2x, h3x, h4x, h5x; // one per header; five headers total.\n",
        "  int x, x2, x3, x4, x5; // one per value per row: five values per row total;\n",
        "\n",
        "  // Read the headers\n",
        "  mt_in >> hx >> h2x >> h3x >> h4x >> h5x;\n",
        "  // Outout the headers\n",
        "  cout << setw(4) << hx << setw(6) << h2x << setw(6) << h3x << setw(6) << h4x << setw(6) << h5x << endl;\n",
        "\n",
        "  // Read and output the numbers one row at a time\n",
        "  while(mt_in >> x >> x2 >> x3 >> x4 >> x5){\n",
        "      cout << setw(4) << x << setw(6) << x2 << setw(6) << x3 << setw(6) << x4 << setw(6) << x5 << endl;\n",
        "  }\n",
        "\n",
        "  mt_in.close();\n",
        "\n",
        "  return 0;\n",
        "}"
      ]
    },
    {
      "cell_type": "code",
      "source": [
        "!g++ -std=c++17 ex06.cpp -o ex06\n",
        "!./ex06"
      ],
      "metadata": {
        "id": "tFnfqXAc13Ch",
        "outputId": "4d73cf3c-8563-4492-9316-18c374eaa10d",
        "colab": {
          "base_uri": "https://localhost:8080/"
        }
      },
      "execution_count": 23,
      "outputs": [
        {
          "output_type": "stream",
          "name": "stdout",
          "text": [
            "   x   2*x   3*x   4*x   5*x\n",
            "   1     2     3     4     5\n",
            "   2     4     6     8    10\n",
            "   3     6     9    12    15\n",
            "   4     8    12    16    20\n",
            "   5    10    15    20    25\n"
          ]
        }
      ]
    },
    {
      "cell_type": "markdown",
      "metadata": {
        "id": "vxj1UfMfwW45"
      },
      "source": [
        "Notice how we but the `mt_in >> x >> x2 >> x3 >> x4 >> x5` expression as a condition to the `while` loop. This is, again, to instruct c++ to keep reading from the file until end of file is reached. When end of file is encountered, this expression will evaluate to `false` causing the while loop to terminate.\n"
      ]
    },
    {
      "cell_type": "markdown",
      "metadata": {
        "id": "yEiwXUgYwW45"
      },
      "source": [
        "## Working with errors\n",
        "\n",
        "Working with files can result in errors, We might be trying to read from a file the does not exist or write to a file that we don't have permission to write to. All stream objects come with error states that we can check to make sure that these streams are in good condition. We can use the `eof()` function to check if the end of file has been reached. We can use the `fail()` function to see if the attempted stream operation fails. Similarly, the `bad()` function can be called to check if an invalid operation was attempted and the `good()` function can be used to make sure the stream is in good condition.\n",
        "\n",
        "Here is an example program using the error-checking functions above to read and display the contents of the previously created `hello.txt` file. First, we changed the while loop condition to the `eof()` function instead. This means keep reading data from the input file as long as it is not end of file. Second, we make sure that the stream is in good condition using the `good()` function before we printed out the results."
      ]
    },
    {
      "cell_type": "code",
      "execution_count": 24,
      "metadata": {
        "id": "UMvCFIVwwW46",
        "outputId": "43735d81-9b6a-4a69-892a-b87ffb62b1d2",
        "colab": {
          "base_uri": "https://localhost:8080/"
        }
      },
      "outputs": [
        {
          "output_type": "stream",
          "name": "stdout",
          "text": [
            "Writing ex07.cpp\n"
          ]
        }
      ],
      "source": [
        "%%writefile ex07.cpp\n",
        "\n",
        "#include <fstream>\n",
        "#include <iostream>\n",
        "#include <string>\n",
        "\n",
        "using namespace std;\n",
        "\n",
        "int main(){\n",
        "  ifstream h_in(\"hello.txt\");\n",
        "\n",
        "  string text;\n",
        "  while(!h_in.eof()){\n",
        "      getline(h_in, text);\n",
        "      if(h_in.good()){\n",
        "          cout << text << endl;\n",
        "      }\n",
        "  }\n",
        "  h_in.close();\n",
        "\n",
        "  return 0;\n",
        "}"
      ]
    },
    {
      "cell_type": "code",
      "source": [
        "!g++ -std=c++17 ex07.cpp -o ex07\n",
        "!./ex07"
      ],
      "metadata": {
        "id": "hfNxBAGF2YYj",
        "outputId": "cf015da6-ab31-4246-a5ba-392d0b173bfb",
        "colab": {
          "base_uri": "https://localhost:8080/"
        }
      },
      "execution_count": 25,
      "outputs": [
        {
          "output_type": "stream",
          "name": "stdout",
          "text": [
            "Hello World!\n",
            "Welcome pravesh to C++ programming!\n"
          ]
        }
      ]
    },
    {
      "cell_type": "markdown",
      "metadata": {
        "id": "ObKIXzRBwW46"
      },
      "source": [
        "## Output manipulators\n",
        "\n",
        "To support streams, C++ provides many manipulators to control and format the data that goes into these streams.  One such manipulator is the `setw` manipulator we have been using all along. But `setw` is not the only manipulator we can use. There are many more manipulators to take advantage of and all these manipulators require the header file `<iomanip>`.\n",
        "\n",
        "To start, we can use `setfill` to change the fill character used by `setw` to something other than the space character, which is the default. This manipulator takes a single filling character as an argument. Here is an example using the `setfill` manipulator to replace the spaces in the previous multiplication table with periods `.`. Notice how, unlike `setw`, we only had to call `setfill` once; subsequent `setw` calls will use the new filling character.\n",
        "\n",
        "Run the following code cell multiple times and each time change the fill character to something else."
      ]
    },
    {
      "cell_type": "code",
      "execution_count": 26,
      "metadata": {
        "scrolled": true,
        "id": "_Oz04XeEwW46",
        "outputId": "3c399715-2bf7-43bf-8410-4cf81deb99f2",
        "colab": {
          "base_uri": "https://localhost:8080/"
        }
      },
      "outputs": [
        {
          "output_type": "stream",
          "name": "stdout",
          "text": [
            "Writing ex08.cpp\n"
          ]
        }
      ],
      "source": [
        "%%writefile ex08.cpp\n",
        "\n",
        "#include <fstream>\n",
        "#include <iostream>\n",
        "#include <iomanip>\n",
        "\n",
        "using namespace std;\n",
        "\n",
        "int main(){\n",
        "  cout << setfill('.');\n",
        "  cout << setw(4) << \"x\" << setw(6) << \"2*x\" << setw(6) <<\"3*x\" << setw(6) <<\"4*x\" << setw(6) << \"5*x\" << endl;\n",
        "  for(int x = 1; x <= 5; x++){\n",
        "    cout << setw(4) << x;\n",
        "    for(int y = 2; y <= 5; y++){\n",
        "        cout << setw(6) << x * y;\n",
        "    }\n",
        "\n",
        "    cout << endl;\n",
        "  }\n",
        "\n",
        "  return 0;\n",
        "}"
      ]
    },
    {
      "cell_type": "code",
      "source": [
        "!g++ -std=c++17 ex08.cpp -o ex08\n",
        "!./ex08"
      ],
      "metadata": {
        "id": "OvuO6ATf21DP",
        "outputId": "26ad931d-20fb-4b23-f995-eb381d51fa0e",
        "colab": {
          "base_uri": "https://localhost:8080/"
        }
      },
      "execution_count": 27,
      "outputs": [
        {
          "output_type": "stream",
          "name": "stdout",
          "text": [
            "...x...2*x...3*x...4*x...5*x\n",
            "...1.....2.....3.....4.....5\n",
            "...2.....4.....6.....8....10\n",
            "...3.....6.....9....12....15\n",
            "...4.....8....12....16....20\n",
            "...5....10....15....20....25\n"
          ]
        }
      ]
    },
    {
      "cell_type": "markdown",
      "metadata": {
        "id": "G0uPOGRmwW46"
      },
      "source": [
        "To go back to using spaces, we call `setfill(' ')`:\n",
        "\n",
        "```cpp\n",
        "cout << setfill(' ');\n",
        "```"
      ]
    },
    {
      "cell_type": "markdown",
      "metadata": {
        "id": "k5L1v0fGwW47"
      },
      "source": [
        "We can also use the `fixed` and `setprecision`  manipulators to format `double` and/or `float` numbers. `fixed` instructs C++ to display numbers in fixed-point notation (using the decimal point). `setprecision`, on the other hand, sets the precision of the numbers. It takes an integer argument which can mean one of two things depending on whether the manipulator `fixed` is also used :\n",
        "* If `fixed` is not used, it specifies the number of digits to display including both the digits before and after the point.\n",
        "* If `fixed` is used, it specifies the number of decimal points after the point.\n",
        "\n",
        "The cell code below displays, in a table, the numbers 1 through 10 along with their square roots; no `setprecision` and no `fixed` yet. Notice that to use the `sqrt()` function for calculating the square root, we need to include the `<cmath>` header file."
      ]
    },
    {
      "cell_type": "code",
      "execution_count": 28,
      "metadata": {
        "scrolled": true,
        "id": "lqVQJhGmwW47",
        "outputId": "adde90ea-e1c9-4ef1-8993-ec064de848f2",
        "colab": {
          "base_uri": "https://localhost:8080/"
        }
      },
      "outputs": [
        {
          "output_type": "stream",
          "name": "stdout",
          "text": [
            "Writing ex09-a.cpp\n"
          ]
        }
      ],
      "source": [
        "%%writefile ex09-a.cpp\n",
        "\n",
        "#include <iostream>\n",
        "#include <iomanip>\n",
        "#include <cmath>\n",
        "\n",
        "using namespace std;\n",
        "\n",
        "int main(){\n",
        "  for(double i = 1; i <= 10; i++) {\n",
        "      cout << setw(3) << i << \": \" << setw(10) << sqrt(i) << endl;\n",
        "  }\n",
        "\n",
        "  return 0;\n",
        "}"
      ]
    },
    {
      "cell_type": "code",
      "source": [
        "!g++ -std=c++17 ex09-a.cpp -o ex09-a\n",
        "!./ex09-a"
      ],
      "metadata": {
        "id": "zQo4oHks3ld5",
        "outputId": "ebf0aa21-651a-4b96-dc5b-1d827cb5e73b",
        "colab": {
          "base_uri": "https://localhost:8080/"
        }
      },
      "execution_count": 29,
      "outputs": [
        {
          "output_type": "stream",
          "name": "stdout",
          "text": [
            "  1:          1\n",
            "  2:    1.41421\n",
            "  3:    1.73205\n",
            "  4:          2\n",
            "  5:    2.23607\n",
            "  6:    2.44949\n",
            "  7:    2.64575\n",
            "  8:    2.82843\n",
            "  9:          3\n",
            " 10:    3.16228\n"
          ]
        }
      ]
    },
    {
      "cell_type": "markdown",
      "metadata": {
        "id": "tRa0nigJwW48"
      },
      "source": [
        "Here is the code above with precision set to 4; no `fixed`."
      ]
    },
    {
      "cell_type": "code",
      "execution_count": 30,
      "metadata": {
        "id": "jt96UmSuwW49",
        "outputId": "77fde38a-dfb1-44c2-8eff-69f08fb6378b",
        "colab": {
          "base_uri": "https://localhost:8080/"
        }
      },
      "outputs": [
        {
          "output_type": "stream",
          "name": "stdout",
          "text": [
            "Writing ex09-b.cpp\n"
          ]
        }
      ],
      "source": [
        "%%writefile ex09-b.cpp\n",
        "\n",
        "#include <iostream>\n",
        "#include <iomanip>\n",
        "#include <cmath>\n",
        "\n",
        "using namespace std;\n",
        "\n",
        "int main(){\n",
        "  cout << setprecision(4);\n",
        "  for(double i = 1; i <= 10; i++) {\n",
        "      cout << setw(3) << i << \": \" << setw(10) << sqrt(i) << endl;\n",
        "  }\n",
        "\n",
        "  return 0;\n",
        "}"
      ]
    },
    {
      "cell_type": "code",
      "source": [
        "!g++ -std=c++17 ex09-b.cpp -o ex09-b\n",
        "!./ex09-b"
      ],
      "metadata": {
        "id": "TB0iwFwY3y3c",
        "outputId": "895392ff-eb05-4b11-dc7f-85fc64d3d63d",
        "colab": {
          "base_uri": "https://localhost:8080/"
        }
      },
      "execution_count": 31,
      "outputs": [
        {
          "output_type": "stream",
          "name": "stdout",
          "text": [
            "  1:          1\n",
            "  2:      1.414\n",
            "  3:      1.732\n",
            "  4:          2\n",
            "  5:      2.236\n",
            "  6:      2.449\n",
            "  7:      2.646\n",
            "  8:      2.828\n",
            "  9:          3\n",
            " 10:      3.162\n"
          ]
        }
      ]
    },
    {
      "cell_type": "markdown",
      "metadata": {
        "id": "d0OBqxICwW49"
      },
      "source": [
        "Here is the code above using `fixed` and with precision set to 4."
      ]
    },
    {
      "cell_type": "code",
      "execution_count": 32,
      "metadata": {
        "scrolled": true,
        "id": "2qMMVhyDwW4-",
        "outputId": "32b210b0-327a-4389-b018-e0f13b414457",
        "colab": {
          "base_uri": "https://localhost:8080/"
        }
      },
      "outputs": [
        {
          "output_type": "stream",
          "name": "stdout",
          "text": [
            "Writing ex09-c.cpp\n"
          ]
        }
      ],
      "source": [
        "%%writefile ex09-c.cpp\n",
        "\n",
        "#include <iostream>\n",
        "#include <iomanip>\n",
        "#include <cmath>\n",
        "\n",
        "using namespace std;\n",
        "\n",
        "int main(){\n",
        "  cout << setprecision(4) << fixed;\n",
        "  for(double i = 1; i <= 10; i++) {\n",
        "      cout << setw(3) << i << \": \" << setw(10) << sqrt(i) << endl;\n",
        "  }\n",
        "\n",
        "  return 0;\n",
        "}"
      ]
    },
    {
      "cell_type": "code",
      "source": [
        "!g++ -std=c++17 ex09-c.cpp -o ex09-c\n",
        "!./ex09-c"
      ],
      "metadata": {
        "id": "-3Emzspc39qZ",
        "outputId": "5f1f7656-3e8c-4efb-c557-75e0f5c34a99",
        "colab": {
          "base_uri": "https://localhost:8080/"
        }
      },
      "execution_count": 33,
      "outputs": [
        {
          "output_type": "stream",
          "name": "stdout",
          "text": [
            "1.0000:     1.0000\n",
            "2.0000:     1.4142\n",
            "3.0000:     1.7321\n",
            "4.0000:     2.0000\n",
            "5.0000:     2.2361\n",
            "6.0000:     2.4495\n",
            "7.0000:     2.6458\n",
            "8.0000:     2.8284\n",
            "9.0000:     3.0000\n",
            "10.0000:     3.1623\n"
          ]
        }
      ]
    },
    {
      "cell_type": "markdown",
      "metadata": {
        "id": "j0fdwaGAwW4-"
      },
      "source": [
        "Now all numbers have exactly 4 decimal places. To turn `fixed` off, we call:\n",
        "\n",
        "```cpp\n",
        "cout << resetiosflags(ios::fixed);\n",
        "```"
      ]
    },
    {
      "cell_type": "markdown",
      "metadata": {
        "id": "woJ3WI55wW4-"
      },
      "source": [
        "Unless the precision changes for one number to the next, we only needed to call `setprecision` once. Here is another example where we display the square root of 2 in increasing precisions."
      ]
    },
    {
      "cell_type": "code",
      "execution_count": 34,
      "metadata": {
        "scrolled": true,
        "id": "ovdt4Qf_wW4-",
        "outputId": "ac74352b-eafd-4d0d-8eed-463a10320724",
        "colab": {
          "base_uri": "https://localhost:8080/"
        }
      },
      "outputs": [
        {
          "output_type": "stream",
          "name": "stdout",
          "text": [
            "Writing ex09-d.cpp\n"
          ]
        }
      ],
      "source": [
        "%%writefile ex09-d.cpp\n",
        "\n",
        "#include <iostream>\n",
        "#include <iomanip>\n",
        "#include <cmath>\n",
        "\n",
        "using namespace std;\n",
        "\n",
        "int main(){\n",
        "  for(int i = 1; i <= 10; i++) {\n",
        "      cout << setw(3) << i << setw(15) << setprecision(i) << sqrt(2.0) << endl;\n",
        "  }\n",
        "\n",
        "  return 0;\n",
        "}"
      ]
    },
    {
      "cell_type": "code",
      "source": [
        "!g++ -std=c++17 ex09-d.cpp -o ex09-d\n",
        "!./ex09-d"
      ],
      "metadata": {
        "id": "t8qsTBZP4Q9w",
        "outputId": "c652cd85-ce78-46fd-a62f-524f058919c6",
        "colab": {
          "base_uri": "https://localhost:8080/"
        }
      },
      "execution_count": 35,
      "outputs": [
        {
          "output_type": "stream",
          "name": "stdout",
          "text": [
            "  1              1\n",
            "  2            1.4\n",
            "  3           1.41\n",
            "  4          1.414\n",
            "  5         1.4142\n",
            "  6        1.41421\n",
            "  7       1.414214\n",
            "  8      1.4142136\n",
            "  9     1.41421356\n",
            " 10    1.414213562\n"
          ]
        }
      ]
    },
    {
      "cell_type": "markdown",
      "metadata": {
        "id": "kmltgvbOwW4_"
      },
      "source": [
        "By default, the columns above are right-aligned. We can use the manipulators `left` and `right` to change that. Here is the example above with left-aligned columns."
      ]
    },
    {
      "cell_type": "code",
      "execution_count": 36,
      "metadata": {
        "id": "mVQQMak7wW4_",
        "outputId": "626ff21b-8e64-44a5-e04c-0cadc30c84de",
        "colab": {
          "base_uri": "https://localhost:8080/"
        }
      },
      "outputs": [
        {
          "output_type": "stream",
          "name": "stdout",
          "text": [
            "Writing ex09-e.cpp\n"
          ]
        }
      ],
      "source": [
        "%%writefile ex09-e.cpp\n",
        "\n",
        "#include <iostream>\n",
        "#include <iomanip>\n",
        "#include <cmath>\n",
        "\n",
        "using namespace std;\n",
        "\n",
        "int main(){\n",
        "  cout << left;\n",
        "  for(int i = 1; i <= 10; i++) {\n",
        "      cout << setw(3) << i << setw(15) << setprecision(i) << sqrt(2.0) << endl;\n",
        "  }\n",
        "\n",
        "  return 0;\n",
        "}"
      ]
    },
    {
      "cell_type": "code",
      "source": [
        "!g++ -std=c++17 ex09-e.cpp -o ex09-e\n",
        "!./ex09-e"
      ],
      "metadata": {
        "id": "7twLVOIa4ryb",
        "outputId": "7772aed9-332b-4cb9-b4d4-3ce152d63cf0",
        "colab": {
          "base_uri": "https://localhost:8080/"
        }
      },
      "execution_count": 37,
      "outputs": [
        {
          "output_type": "stream",
          "name": "stdout",
          "text": [
            "1  1              \n",
            "2  1.4            \n",
            "3  1.41           \n",
            "4  1.414          \n",
            "5  1.4142         \n",
            "6  1.41421        \n",
            "7  1.414214       \n",
            "8  1.4142136      \n",
            "9  1.41421356     \n",
            "10 1.414213562    \n"
          ]
        }
      ]
    },
    {
      "cell_type": "markdown",
      "metadata": {
        "id": "I8KXbGFRwW4_"
      },
      "source": [
        "To switch back to right-alignment we use the `right` manipulator."
      ]
    },
    {
      "cell_type": "code",
      "execution_count": 38,
      "metadata": {
        "scrolled": true,
        "id": "wmhoz7jAwW4_",
        "outputId": "7c6cd00b-e501-4ea4-b661-7c0d8f96b3de",
        "colab": {
          "base_uri": "https://localhost:8080/"
        }
      },
      "outputs": [
        {
          "output_type": "stream",
          "name": "stdout",
          "text": [
            "Writing ex09-f.cpp\n"
          ]
        }
      ],
      "source": [
        "%%writefile ex09-f.cpp\n",
        "\n",
        "#include <iostream>\n",
        "#include <iomanip>\n",
        "#include <cmath>\n",
        "\n",
        "using namespace std;\n",
        "\n",
        "int main(){\n",
        "  cout << right;\n",
        "  for(int i = 1; i <= 10; i++) {\n",
        "      cout << setw(3) << i << setw(15) << setprecision(i) << sqrt(2.0) << endl;\n",
        "  }\n",
        "\n",
        "  return 0;\n",
        "}"
      ]
    },
    {
      "cell_type": "code",
      "source": [
        "!g++ -std=c++17 ex09-f.cpp -o ex09-f\n",
        "!./ex09-f"
      ],
      "metadata": {
        "id": "yEMnwLp847ru",
        "outputId": "b9b18a03-25cb-4f99-e35b-32edfdcb274e",
        "colab": {
          "base_uri": "https://localhost:8080/"
        }
      },
      "execution_count": 39,
      "outputs": [
        {
          "output_type": "stream",
          "name": "stdout",
          "text": [
            "  1              1\n",
            "  2            1.4\n",
            "  3           1.41\n",
            "  4          1.414\n",
            "  5         1.4142\n",
            "  6        1.41421\n",
            "  7       1.414214\n",
            "  8      1.4142136\n",
            "  9     1.41421356\n",
            " 10    1.414213562\n"
          ]
        }
      ]
    },
    {
      "cell_type": "markdown",
      "metadata": {
        "id": "XQvIjxAHwW4_"
      },
      "source": [
        "Moreover, we can use the `dec`, `oct`, and `hex` manipulators to display integers in **decimal**, **octal**, and **hexadecimal** formats respectively.  Here is an example displaying the integers 1 through 20 in decimal, octal, lowercase hexadecimal, and uppercase hexadecimal formats."
      ]
    },
    {
      "cell_type": "code",
      "execution_count": 40,
      "metadata": {
        "scrolled": true,
        "id": "GTaZic8ewW5A",
        "outputId": "5af7287b-607d-499d-8891-ebcd93bd5dc5",
        "colab": {
          "base_uri": "https://localhost:8080/"
        }
      },
      "outputs": [
        {
          "output_type": "stream",
          "name": "stdout",
          "text": [
            "Writing ex09-g.cpp\n"
          ]
        }
      ],
      "source": [
        "%%writefile ex09-g.cpp\n",
        "\n",
        "#include <iostream>\n",
        "#include <iomanip>\n",
        "#include <cmath>\n",
        "\n",
        "using namespace std;\n",
        "\n",
        "int main(){\n",
        "  cout << left << setw(6) << \"DEC\"\n",
        "      << setw(6) << \"OCT\"\n",
        "      << setw(6) << \"hex\"\n",
        "      << setw(6) << \"HEX\" << endl;\n",
        "\n",
        "  for(int i = 1; i <= 20; i += 2){\n",
        "    cout << setw(6) << dec << i\n",
        "        << setw(6) << oct << i\n",
        "        << setw(6) << nouppercase << hex << i\n",
        "        << setw(6) << uppercase << hex << i << endl;\n",
        "  }\n",
        "\n",
        "  return 0;\n",
        "}"
      ]
    },
    {
      "cell_type": "code",
      "source": [
        "!g++ -std=c++17 ex09-g.cpp -o ex09-g\n",
        "!./ex09-g"
      ],
      "metadata": {
        "id": "q_OSa3rv5H23",
        "outputId": "fa2071d6-1c98-44b3-f423-eb8b10ab0f89",
        "colab": {
          "base_uri": "https://localhost:8080/"
        }
      },
      "execution_count": 41,
      "outputs": [
        {
          "output_type": "stream",
          "name": "stdout",
          "text": [
            "DEC   OCT   hex   HEX   \n",
            "1     1     1     1     \n",
            "3     3     3     3     \n",
            "5     5     5     5     \n",
            "7     7     7     7     \n",
            "9     11    9     9     \n",
            "11    13    b     B     \n",
            "13    15    d     D     \n",
            "15    17    f     F     \n",
            "17    21    11    11    \n",
            "19    23    13    13    \n"
          ]
        }
      ]
    },
    {
      "cell_type": "markdown",
      "metadata": {
        "id": "Szj2lvRJwW5A"
      },
      "source": [
        "Notice that the `uppercase` and `nouppercase` manipulators are not for converting arbitrary strings to uppercase or lowercase. They are rather for changing the letters in the hexadecimal number system to uppercase or lowercase, respectively.\n",
        "\n",
        "It is important to finally remember that all these manipulators work the same for any output stream regardless of whether it is a standard output stream like `cout`,  an output file stream, or even a stringstream. Such consistency across all streams is extremely important and useful.\n",
        "\n",
        "## CODING CHALLENGE 3\n",
        "\n",
        "Write a program that writes the above decimal/octal/hexadecimal table to a file named `numbers.txt`."
      ]
    },
    {
      "cell_type": "code",
      "execution_count": 42,
      "metadata": {
        "id": "YGhmraikwW5A",
        "outputId": "b549d04f-43bb-4498-d1a9-9ae50697aa94",
        "colab": {
          "base_uri": "https://localhost:8080/"
        }
      },
      "outputs": [
        {
          "output_type": "stream",
          "name": "stdout",
          "text": [
            "Writing ch03.cpp\n"
          ]
        }
      ],
      "source": [
        "%%writefile ch03.cpp\n",
        "\n",
        "#include <iostream>\n",
        "#include <fstream>\n",
        "#include <iomanip>\n",
        "\n",
        "int main() {\n",
        "    std::ofstream outFile(\"numbers.txt\");\n",
        "\n",
        "    if (!outFile) {\n",
        "        std::cerr << \"Error opening file.\" << std::endl;\n",
        "        return 1;\n",
        "    }\n",
        "\n",
        "    // Table Header\n",
        "    outFile << \"Decimal\\tOctal\\tHexadecimal\" << std::endl;\n",
        "\n",
        "    // Write numbers 1 to 20 in Decimal, Octal, and Hexadecimal\n",
        "    for (int i = 1; i <= 20; ++i) {\n",
        "        outFile << std::dec << i    // Decimal\n",
        "                << \"\\t\" << std::oct << i  // Octal\n",
        "                << \"\\t\" << std::hex << i  // Hexadecimal\n",
        "                << std::endl;\n",
        "    }\n",
        "\n",
        "    outFile.close();\n",
        "    std::cout << \"File 'numbers.txt' has been created.\" << std::endl;\n",
        "\n",
        "    return 0;\n",
        "}"
      ]
    },
    {
      "cell_type": "code",
      "source": [
        "!g++ -std=c++17 ch03.cpp -o ch03\n",
        "!./ch03"
      ],
      "metadata": {
        "id": "HR9bwze35SYm",
        "outputId": "d81d8442-d421-4eb3-9c6c-fd945e695010",
        "colab": {
          "base_uri": "https://localhost:8080/"
        }
      },
      "execution_count": 44,
      "outputs": [
        {
          "output_type": "stream",
          "name": "stdout",
          "text": [
            "File 'numbers.txt' has been created.\n"
          ]
        }
      ]
    },
    {
      "cell_type": "markdown",
      "metadata": {
        "id": "BTcyncKVwW5A"
      },
      "source": [
        "## Putting it all together\n",
        "\n",
        "Let's have a final example that shows how to combine as many of these manipulators as possible. In this example, we have the following structure that represents digital colors. A digital color has three components: red, green, and blue. Each of these components takes a value between 0 and 255. We also define an array of the seven colors of the rainbow."
      ]
    },
    {
      "cell_type": "code",
      "execution_count": 45,
      "metadata": {
        "id": "RryotwnIwW5A",
        "outputId": "d9f3be85-b482-4db9-8c52-2444a6745bb7",
        "colab": {
          "base_uri": "https://localhost:8080/"
        }
      },
      "outputs": [
        {
          "output_type": "stream",
          "name": "stdout",
          "text": [
            "Writing ex10.cpp\n"
          ]
        }
      ],
      "source": [
        "%%writefile ex10.cpp\n",
        "\n",
        "#include <iostream>\n",
        "#include <iomanip>\n",
        "#include <string>\n",
        "#include <fstream>\n",
        "\n",
        "using namespace std;\n",
        "\n",
        "int main(){\n",
        "  struct Color {\n",
        "      int r, g, b;\n",
        "      string name;\n",
        "  };\n",
        "\n",
        "  Color rainbow[] = {\n",
        "      {255, 0, 0, \"Red\"},\n",
        "      {255, 127, 0, \"Orange\"},\n",
        "      {255, 255, 0, \"Yello\"},\n",
        "      {0, 255, 0, \"Green\"},\n",
        "      {0, 0, 255, \"Blue\"},\n",
        "      {75, 0, 130, \"Indigo\"},\n",
        "      {143, 0, 255, \"Violet\"}\n",
        "  };"
      ]
    },
    {
      "cell_type": "markdown",
      "metadata": {
        "id": "WrFwgRVUwW5A"
      },
      "source": [
        "Here is a loop that displays these colors with their decimal and hexadecimal representations in the following format.\n",
        "\n",
        "```text\n",
        "COLOR      DECIMAL(rgb)          HEXADECIMAL(rgb)\n",
        "========== ===================== ================\n",
        "Red....... 255   0   0 ......... FF 0  0  \n",
        "Orange.... 255 127   0 ......... FF 7F 0  \n",
        "Yello..... 255 255   0 ......... FF FF 0  \n",
        "Green.....   0 255   0 ......... 0  FF 0  \n",
        "Blue......   0   0 255 ......... 0  0  FF\n",
        "Indigo....  75   0 130 ......... 4B 0  82\n",
        "Violet.... 143   0 255 ......... 8F 0  FF\n",
        "```"
      ]
    },
    {
      "cell_type": "code",
      "execution_count": 46,
      "metadata": {
        "id": "Y9rYUzOKwW5B",
        "outputId": "9b2c87e1-0f8a-4390-9507-5581689c47a8",
        "colab": {
          "base_uri": "https://localhost:8080/"
        }
      },
      "outputs": [
        {
          "output_type": "stream",
          "name": "stdout",
          "text": [
            "Appending to ex10.cpp\n"
          ]
        }
      ],
      "source": [
        "%%writefile -a ex10.cpp\n",
        "\n",
        "  cout << left << setw(10) << \"COLOR\" << ' ' << setw(11)\n",
        "      << \"DECIMAL(rgb)\" << setw(10) << ' ' << setw(8) << \"HEXADECIMAL(rgb)\" << endl;\n",
        "  cout << right << setfill('=') << setw(11) << \"= \"\n",
        "      << setfill('=') << setw(22) << \"= \"\n",
        "      << setfill('=') << setw(17) << \"= \" << endl;\n",
        "\n",
        "  for(Color c : rainbow){\n",
        "      cout << left << setfill('.') << setw(10) << c.name << ' '\n",
        "          << dec << setfill(' ') << right << setw(3) << c.r // Decimal\n",
        "          << right << setw(4) << c.g\n",
        "          << right << setw(4) << c.b << ' '\n",
        "          << hex << setfill('.') << right << setw(10) << ' ' << setfill(' ') <<  left << setw(3) << c.r // Hexadecimal\n",
        "          << setfill(' ') << setw(3) << c.g\n",
        "          << setw(3) << c.b\n",
        "          << endl;\n",
        "  }\n",
        "\n",
        "  return 0;\n",
        "}"
      ]
    },
    {
      "cell_type": "code",
      "source": [
        "!g++ -std=c++17 ex10.cpp -o ex10\n",
        "!./ex10"
      ],
      "metadata": {
        "id": "b6fyZ8_o6IT5",
        "outputId": "9f046a2a-0439-4fca-e313-7cfe7d91367a",
        "colab": {
          "base_uri": "https://localhost:8080/"
        }
      },
      "execution_count": 47,
      "outputs": [
        {
          "output_type": "stream",
          "name": "stdout",
          "text": [
            "COLOR      DECIMAL(rgb)          HEXADECIMAL(rgb)\n",
            "========== ===================== ================ \n",
            "Red....... 255   0   0 ......... ff 0  0  \n",
            "Orange.... 255 127   0 ......... ff 7f 0  \n",
            "Yello..... 255 255   0 ......... ff ff 0  \n",
            "Green.....   0 255   0 ......... 0  ff 0  \n",
            "Blue......   0   0 255 ......... 0  0  ff \n",
            "Indigo....  75   0 130 ......... 4b 0  82 \n",
            "Violet.... 143   0 255 ......... 8f 0  ff \n"
          ]
        }
      ]
    },
    {
      "cell_type": "markdown",
      "metadata": {
        "id": "ISqZGhSlwW5B"
      },
      "source": [
        "Notice that the color names and the decimal numbers are right-aligned while the hexadecimal numbers are left-aligned.\n",
        "\n",
        "## CODING CHALLENGE 4\n",
        "Copy the above program to the code cell below and refactor it so as to save the output table to a file named `rainbow.txt` instead of printing it to the console. In addition, make the following changes:\n",
        "* Replace the `.` filling characters with underscores `_`.\n",
        "* Change the alignment(justification) of the decimal numbers to left.\n",
        "* Change the alignment(justification) of the hexadecimal numbers is changed to right.\n",
        "\n"
      ]
    },
    {
      "cell_type": "code",
      "execution_count": 48,
      "metadata": {
        "id": "HWRlDHZFwW5B",
        "outputId": "56ed96ee-3d2a-41fa-c06a-076b8eefb1e5",
        "colab": {
          "base_uri": "https://localhost:8080/"
        }
      },
      "outputs": [
        {
          "output_type": "stream",
          "name": "stdout",
          "text": [
            "Writing ch04.cpp\n"
          ]
        }
      ],
      "source": [
        "%%writefile ch04.cpp\n",
        "\n",
        "#include <iostream>\n",
        "#include <iomanip>\n",
        "#include <string>\n",
        "#include <fstream>\n",
        "\n",
        "using namespace std;\n",
        "\n",
        "int main() {\n",
        "    // Create and open the file rainbow.txt\n",
        "    ofstream outFile(\"rainbow.txt\");\n",
        "\n",
        "    if (!outFile) {\n",
        "        cerr << \"Error opening file.\" << endl;\n",
        "        return 1;\n",
        "    }\n",
        "\n",
        "    // Table Header\n",
        "    outFile << left << setw(10) << setfill('_') << \"Decimal\"\n",
        "            << setw(10) << \"Octal\"\n",
        "            << right << setw(10) << \"Hexadecimal\" << endl;\n",
        "\n",
        "    // Write numbers 1 to 20 in Decimal, Octal, and Hexadecimal\n",
        "    for (int i = 1; i <= 20; ++i) {\n",
        "        outFile << left << setw(10) << i      // Decimal (left-aligned)\n",
        "                << setw(10) << oct << i     // Octal\n",
        "                << right << setw(10) << hex << i << endl;  // Hexadecimal (right-aligned)\n",
        "    }\n",
        "\n",
        "    outFile.close();\n",
        "    cout << \"File 'rainbow.txt' has been created.\" << endl;\n",
        "\n",
        "    return 0;\n",
        "}"
      ]
    },
    {
      "cell_type": "code",
      "source": [
        "!g++ -std=c++17 ch04.cpp -o ch04\n",
        "!./ch04"
      ],
      "metadata": {
        "id": "sDV6CQN37uFq",
        "outputId": "9b79c6ba-eab4-44d9-b54a-c907e672ccf3",
        "colab": {
          "base_uri": "https://localhost:8080/"
        }
      },
      "execution_count": 49,
      "outputs": [
        {
          "output_type": "stream",
          "name": "stdout",
          "text": [
            "File 'rainbow.txt' has been created.\n"
          ]
        }
      ]
    },
    {
      "cell_type": "code",
      "source": [
        "!cat rainbow.txt"
      ],
      "metadata": {
        "id": "SlboLzF27vwE",
        "outputId": "d4784404-3284-4852-cc31-5b18f391f99b",
        "colab": {
          "base_uri": "https://localhost:8080/"
        }
      },
      "execution_count": 50,
      "outputs": [
        {
          "output_type": "stream",
          "name": "stdout",
          "text": [
            "Decimal___Octal_____Hexadecimal\n",
            "1_________1__________________1\n",
            "2_________2__________________2\n",
            "3_________3__________________3\n",
            "4_________4__________________4\n",
            "5_________5__________________5\n",
            "6_________6__________________6\n",
            "7_________7__________________7\n",
            "8_________10_________________8\n",
            "9_________11_________________9\n",
            "a_________12_________________a\n",
            "b_________13_________________b\n",
            "c_________14_________________c\n",
            "d_________15_________________d\n",
            "e_________16_________________e\n",
            "f_________17_________________f\n",
            "10________20________________10\n",
            "11________21________________11\n",
            "12________22________________12\n",
            "13________23________________13\n",
            "14________24________________14\n"
          ]
        }
      ]
    },
    {
      "cell_type": "markdown",
      "metadata": {
        "id": "iCW69ys0wW5B"
      },
      "source": [
        "## One more example of reading from and writing to TXT files\n",
        "\n",
        "We have a text file named `top10.txt` containing the top 10 movies of all time according to IMDB. It looks like this (for simplicity, the spaces in the titles are replaced with underscores):\n",
        "\n",
        "```\n",
        "    id title\t                          year\t rated  rating\t  votes\n",
        "102091 The_Shawshank_Redemption           1994\t     R     9.3\t1078045\n",
        "102092 The_Godfather                      1972\t     R     9.2\t 762332\n",
        "102093 The_Godfather:_Part_II             1974\t     R     9.0\t 496772\n",
        "102094 Pulp_Fiction                       1994\t     R     9.0\t 843376\n",
        "102095 The_Good_the_Bad_and_the_Ugly      1966\t     M     9.0\t 325579\n",
        "102096 The_Dark_Knight                    2008\t PG-13     9.0\t1050810\n",
        "102097 12_Angry_Men                       1957\t PG-13     8.9\t 266350\n",
        "102098 Schindler's_List                   1993\t     R     8.9\t 553804\n",
        "102099 The_Return_of_the_King             2003\t PG-13     8.9\t 767958\n",
        "102100 Fight_Club                         1999\t     R     8.8\t 819812\n",
        "```\n",
        "You'll need to download this file from Canvas and upload it to this Colab Notebook by dragging it and dropping it to **Files** tab on the left navbar.\n",
        "\n",
        "\n",
        "In this example, we'll see how we can read formatted files like this. Let's start by opening the file for reading using the `ifstream` class. We'll also need to include `<vector>`."
      ]
    },
    {
      "cell_type": "markdown",
      "source": [
        "We also need a way to represent each movie and that is what classes are for. So we create a class named Movie with six data members one for each column. The types of these members will need to match the movie columns on the file. Here is one implementation of such a class, saved into a header file `movie.h`"
      ],
      "metadata": {
        "id": "VcOY3fSH-pO_"
      }
    },
    {
      "cell_type": "code",
      "source": [
        "%%writefile movie.h\n",
        "\n",
        "#ifndef __MOVIE_H__\n",
        "#define __MOVIE_H__\n",
        "\n",
        "#include <iostream>\n",
        "#include <string>\n",
        "\n",
        "class Movie {\n",
        "private:\n",
        "    int id, year;\n",
        "    long votes;\n",
        "    std::string title, rated;\n",
        "    double rating;\n",
        "\n",
        "public:\n",
        "    // Constructor\n",
        "    Movie() {}\n",
        "    Movie(int id, std::string t, int y, std::string r, double rtng, long v) :\n",
        "        id(id), title(t), year(y), rated(r), rating(rtng), votes(v){}\n",
        "\n",
        "    // Accessors and mutators\n",
        "    int getId() const { return id; }\n",
        "    void setId(int id){ this->id = id; }\n",
        "\n",
        "    int getYear() const { return year; }\n",
        "    void setYear(int y){ this->year = y; }\n",
        "\n",
        "    long getVotes() const { return votes; }\n",
        "    void setVotes(long v){ this->votes = v; }\n",
        "\n",
        "    const std::string getTitle() const { return title; }\n",
        "    void setTitle(const std::string& t){ this->title = t; }\n",
        "\n",
        "    const std::string getRated() const { return rated; }\n",
        "    void setRated(const std::string& r){ this->rated = r; }\n",
        "\n",
        "    double getRating() const{ return rating; }\n",
        "    void setRating(double r){ this->rating = r; }\n",
        "\n",
        "    friend std::ostream& operator<<(std::ostream& out, const Movie& m){\n",
        "        out << \"ID: \" << m.id << '\\n'\n",
        "            << \"TITLE: \" << m.title << '\\n'\n",
        "            << \"YEAR: \" << m.year << '\\n'\n",
        "            << \"RATED: \" << m.rated << '\\n'\n",
        "            << \"RATING: \" << m.rating << '\\n'\n",
        "            << \"VOTES: \" << m.votes << '\\n';\n",
        "        return out;\n",
        "    }\n",
        "\n",
        "    // Destructor\n",
        "    ~Movie(){}\n",
        "};\n",
        "\n",
        "#endif"
      ],
      "metadata": {
        "id": "f06KQ0tM-mnS",
        "outputId": "49e22c00-1fc6-4679-f398-6039e1eeeb00",
        "colab": {
          "base_uri": "https://localhost:8080/"
        }
      },
      "execution_count": 51,
      "outputs": [
        {
          "output_type": "stream",
          "name": "stdout",
          "text": [
            "Writing movie.h\n"
          ]
        }
      ]
    },
    {
      "cell_type": "markdown",
      "source": [],
      "metadata": {
        "id": "LF-MvY1A-nn2"
      }
    },
    {
      "cell_type": "code",
      "execution_count": 52,
      "metadata": {
        "id": "nRmKBJ0_wW5C",
        "outputId": "afe3763d-bcfd-49a3-fd83-1b8a50fae2d0",
        "colab": {
          "base_uri": "https://localhost:8080/"
        }
      },
      "outputs": [
        {
          "output_type": "stream",
          "name": "stdout",
          "text": [
            "Writing ex11.cpp\n"
          ]
        }
      ],
      "source": [
        "%%writefile ex11.cpp\n",
        "\n",
        "#include <vector>\n",
        "#include <iostream>\n",
        "#include <iomanip>\n",
        "#include <string>\n",
        "#include <fstream>\n",
        "#include \"movie.h\"\n",
        "\n",
        "using namespace std;\n",
        "\n",
        "int main(){\n",
        "  ifstream fin(\"top10.txt\");"
      ]
    },
    {
      "cell_type": "markdown",
      "metadata": {
        "id": "d3j4iEHAwW5C"
      },
      "source": [
        "We can now read the contents of the file one row at a time. But to do so, we need to think about where we are going to save them, and that will depend on the structure of the file. Looking at the file content we see a table of six columns and eleven rows. The first row contains the column headers which are all strings. The rest is the top 10 movies one per line. We need to keep this structure in mind as we move forward.\n",
        "\n",
        "Since the headers are all strings, we just need an array or a vector of six strings to store them. Let's create a vector for these headers, fill it up with actual headers from the file, and print them to the console:"
      ]
    },
    {
      "cell_type": "code",
      "execution_count": 53,
      "metadata": {
        "id": "s5hGLSZ1wW5C",
        "outputId": "dffa33c3-71c0-4aea-fc32-e4ad0966aefd",
        "colab": {
          "base_uri": "https://localhost:8080/"
        }
      },
      "outputs": [
        {
          "output_type": "stream",
          "name": "stdout",
          "text": [
            "Appending to ex11.cpp\n"
          ]
        }
      ],
      "source": [
        "%%writefile -a ex11.cpp\n",
        "\n",
        "vector<string> hdrs(6);\n",
        "fin >> hdrs[0] >> hdrs[1] >> hdrs[2] >> hdrs[3] >> hdrs[4] >> hdrs[5];\n",
        "\n",
        "for(string h : hdrs) {\n",
        "    cout << h << \" \";\n",
        "}"
      ]
    },
    {
      "cell_type": "markdown",
      "metadata": {
        "id": "RZVxQqyXwW5C"
      },
      "source": [
        "Similarly, we need to have an array or a vector to store the 10 movies. We'll use an array this time (you can change that to a vector if you want to), but an array of what? It cannot be an array of strings since some columns are strings and some are not.\n",
        "\n",
        "We will use the above `Movie` to represent these movies. In other words, will have one movie object for each row in the file."
      ]
    },
    {
      "cell_type": "markdown",
      "metadata": {
        "id": "Na3sonWZwW5D"
      },
      "source": [
        "Now, we define a array of 10 movies to house these objects. We also need to define six variables (one per column) to temporarily read the movie info into."
      ]
    },
    {
      "cell_type": "code",
      "execution_count": 54,
      "metadata": {
        "id": "OnSqnoZNwW5D",
        "outputId": "436ac099-5d71-439d-b1ef-ceb5ee96d11b",
        "colab": {
          "base_uri": "https://localhost:8080/"
        }
      },
      "outputs": [
        {
          "output_type": "stream",
          "name": "stdout",
          "text": [
            "Appending to ex11.cpp\n"
          ]
        }
      ],
      "source": [
        "%%writefile -a ex11.cpp\n",
        "\n",
        "Movie movies[10];\n",
        "int id, year;\n",
        "long votes;\n",
        "string title, rated;\n",
        "double rating;"
      ]
    },
    {
      "cell_type": "markdown",
      "metadata": {
        "id": "Eu07xFKfwW5D"
      },
      "source": [
        "Let's read the top 10 movies one at a time and store their information into the `movies` array."
      ]
    },
    {
      "cell_type": "code",
      "execution_count": 55,
      "metadata": {
        "id": "sd4bIZ0UwW5D",
        "outputId": "14fbc48f-c29a-4dc2-e124-42361c20de98",
        "colab": {
          "base_uri": "https://localhost:8080/"
        }
      },
      "outputs": [
        {
          "output_type": "stream",
          "name": "stdout",
          "text": [
            "Appending to ex11.cpp\n"
          ]
        }
      ],
      "source": [
        "%%writefile -a ex11.cpp\n",
        "\n",
        "for(Movie& m : movies){\n",
        "    // Read the movie data into the temporary variables\n",
        "    fin >> id >> title >> year >> rated >> rating >> votes;\n",
        "\n",
        "    // Store the read data into the movie object m\n",
        "    m.setId(id);\n",
        "    m.setTitle(title);\n",
        "    m.setYear(year);\n",
        "    m.setRated(rated);\n",
        "    m.setRating(rating);\n",
        "    m.setVotes(votes);\n",
        "}"
      ]
    },
    {
      "cell_type": "markdown",
      "metadata": {
        "id": "6jHqzEyAwW5D"
      },
      "source": [
        "Since we are finished with the file, we should close it."
      ]
    },
    {
      "cell_type": "code",
      "execution_count": 56,
      "metadata": {
        "id": "02cAKmKDwW5D",
        "outputId": "cf408cd0-465f-4203-f32a-f5461949d796",
        "colab": {
          "base_uri": "https://localhost:8080/"
        }
      },
      "outputs": [
        {
          "output_type": "stream",
          "name": "stdout",
          "text": [
            "Appending to ex11.cpp\n"
          ]
        }
      ],
      "source": [
        "%%writefile -a ex11.cpp\n",
        "\n",
        "fin.close();"
      ]
    },
    {
      "cell_type": "markdown",
      "metadata": {
        "id": "O-8JzEwCwW5E"
      },
      "source": [
        "Finally, we'll print the movies to a file named `top10_out.txt`. We'll use the `ofstream` class for that. Notice that the `Movie` class defined the `operator<<` function which implments how we want the movies to be displayed. You can change that function to format the output differently."
      ]
    },
    {
      "cell_type": "code",
      "execution_count": 57,
      "metadata": {
        "id": "-DSU5T6FwW5E",
        "outputId": "ba221372-b1dd-40d8-fde7-e58a6bedaaf6",
        "colab": {
          "base_uri": "https://localhost:8080/"
        }
      },
      "outputs": [
        {
          "output_type": "stream",
          "name": "stdout",
          "text": [
            "Appending to ex11.cpp\n"
          ]
        }
      ],
      "source": [
        "%%writefile -a ex11.cpp\n",
        "\n",
        "  ofstream fout(\"top10_out.txt\");\n",
        "\n",
        "  for(Movie& m : movies){\n",
        "      fout << m << endl;\n",
        "  }\n",
        "\n",
        "  fout.close();\n",
        "\n",
        "  return 0; // Closing the main function\n",
        "}"
      ]
    },
    {
      "cell_type": "code",
      "source": [
        "!g++ -std=c++17 ex11.cpp -o ex11\n",
        "!./ex11"
      ],
      "metadata": {
        "id": "89TiWq3m94l7",
        "outputId": "ebab8647-2393-4674-c88d-57ad74916232",
        "colab": {
          "base_uri": "https://localhost:8080/"
        }
      },
      "execution_count": 58,
      "outputs": [
        {
          "output_type": "stream",
          "name": "stdout",
          "text": [
            "      "
          ]
        }
      ]
    },
    {
      "cell_type": "markdown",
      "source": [
        "Finally, here is output file produced by this program."
      ],
      "metadata": {
        "id": "Iihvpz4aBrzI"
      }
    },
    {
      "cell_type": "code",
      "source": [
        "!cat top10_out.txt"
      ],
      "metadata": {
        "id": "Gz0yJ_nLCLPZ",
        "outputId": "48787391-e02f-4a7a-bd50-f609eda5c009",
        "colab": {
          "base_uri": "https://localhost:8080/"
        }
      },
      "execution_count": 59,
      "outputs": [
        {
          "output_type": "stream",
          "name": "stdout",
          "text": [
            "ID: 1\n",
            "TITLE: \n",
            "YEAR: 0\n",
            "RATED: \n",
            "RATING: 4.73788e-310\n",
            "VOTES: 95895789838672\n",
            "\n",
            "ID: 1\n",
            "TITLE: \n",
            "YEAR: 0\n",
            "RATED: \n",
            "RATING: 4.73788e-310\n",
            "VOTES: 95895789838672\n",
            "\n",
            "ID: 1\n",
            "TITLE: \n",
            "YEAR: 0\n",
            "RATED: \n",
            "RATING: 4.73788e-310\n",
            "VOTES: 95895789838672\n",
            "\n",
            "ID: 1\n",
            "TITLE: \n",
            "YEAR: 0\n",
            "RATED: \n",
            "RATING: 4.73788e-310\n",
            "VOTES: 95895789838672\n",
            "\n",
            "ID: 1\n",
            "TITLE: \n",
            "YEAR: 0\n",
            "RATED: \n",
            "RATING: 4.73788e-310\n",
            "VOTES: 95895789838672\n",
            "\n",
            "ID: 1\n",
            "TITLE: \n",
            "YEAR: 0\n",
            "RATED: \n",
            "RATING: 4.73788e-310\n",
            "VOTES: 95895789838672\n",
            "\n",
            "ID: 1\n",
            "TITLE: \n",
            "YEAR: 0\n",
            "RATED: \n",
            "RATING: 4.73788e-310\n",
            "VOTES: 95895789838672\n",
            "\n",
            "ID: 1\n",
            "TITLE: \n",
            "YEAR: 0\n",
            "RATED: \n",
            "RATING: 4.73788e-310\n",
            "VOTES: 95895789838672\n",
            "\n",
            "ID: 1\n",
            "TITLE: \n",
            "YEAR: 0\n",
            "RATED: \n",
            "RATING: 4.73788e-310\n",
            "VOTES: 95895789838672\n",
            "\n",
            "ID: 1\n",
            "TITLE: \n",
            "YEAR: 0\n",
            "RATED: \n",
            "RATING: 4.73788e-310\n",
            "VOTES: 95895789838672\n",
            "\n"
          ]
        }
      ]
    }
  ],
  "metadata": {
    "kernelspec": {
      "display_name": "Python 3",
      "name": "python3"
    },
    "language_info": {
      "name": "python"
    },
    "colab": {
      "provenance": []
    }
  },
  "nbformat": 4,
  "nbformat_minor": 0
}